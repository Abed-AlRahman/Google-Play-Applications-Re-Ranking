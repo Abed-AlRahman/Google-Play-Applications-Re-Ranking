{
 "cells": [
  {
   "cell_type": "code",
   "execution_count": 1,
   "metadata": {},
   "outputs": [],
   "source": [
    "from elasticsearch import Elasticsearch"
   ]
  },
  {
   "cell_type": "code",
   "execution_count": 2,
   "metadata": {},
   "outputs": [],
   "source": [
    "es = Elasticsearch(\"https://0f09431a2786444ab99c6826be973c68.europe-west3.gcp.cloud.es.io:9243\"\n",
    "                   ,http_auth=('elastic', 'zIXNAI2UfZVPTqVxd3LllsGe'))\n",
    "\n",
    "#name of the created index\n",
    "index_name = \"applications\""
   ]
  },
  {
   "cell_type": "code",
   "execution_count": 3,
   "metadata": {
    "scrolled": true
   },
   "outputs": [
    {
     "data": {
      "text/plain": [
       "{'acknowledged': True, 'shards_acknowledged': True, 'index': 'applications'}"
      ]
     },
     "execution_count": 3,
     "metadata": {},
     "output_type": "execute_result"
    }
   ],
   "source": [
    "# Create index with settings and mapping\n",
    "\n",
    "# This test is done during development only. \n",
    "if es.indices.exists(index_name):\n",
    "    es.indices.delete(index=index_name)\n",
    "    \n",
    "\n",
    "# index settings\n",
    "settings = {\n",
    "  \"settings\": {\n",
    "    \"analysis\": {\n",
    "      \"filter\": {\n",
    "        \"trigrams_filter\": {\n",
    "          \"type\": \"ngram\",\n",
    "          \"min_gram\": 3,\n",
    "          \"max_gram\": 4\n",
    "        }\n",
    "      },\n",
    "      \"analyzer\": {\n",
    "        \"text_processing\": {\n",
    "          \"type\": \"custom\",\n",
    "          \"tokenizer\": \"standard\",\n",
    "          \"filter\": [\n",
    "            \"lowercase\",\n",
    "            \"trigrams_filter\"\n",
    "          ]\n",
    "        }\n",
    "      }\n",
    "    }\n",
    "  }\n",
    ",\"mappings\": {\n",
    "    \"properties\": {\n",
    "        \"id\": {\n",
    "          \"type\": \"keyword\"\n",
    "        },\n",
    "        \"title\": {\n",
    "          \"type\": \"text\"\n",
    "        },\n",
    "        \"description\": {\n",
    "          \"type\": \"text\"\n",
    "        },\n",
    "        \"StoreRating\": {\n",
    "            \"type\":\"double\"\n",
    "        }\n",
    "    }\n",
    "\n",
    "}\n",
    "\n",
    "    }\n",
    "# create index\n",
    "es.indices.create(index=index_name, ignore=400, body=settings)"
   ]
  },
  {
   "cell_type": "code",
   "execution_count": 4,
   "metadata": {},
   "outputs": [],
   "source": [
    "import pandas as pd\n",
    "import json\n",
    "data=[]\n",
    "with open('apps_sub.json') as f:\n",
    "    for line in f:\n",
    "        data.append(json.loads(line))"
   ]
  },
  {
   "cell_type": "code",
   "execution_count": 5,
   "metadata": {
    "scrolled": true
   },
   "outputs": [
    {
     "data": {
      "text/plain": [
       "{'_id': 'https://play.google.com/store/apps/details?id=com.catdaddy.cat22',\n",
       " 'title': 'WWE SuperCard',\n",
       " 'description': 'Get ready to dominate them all with Season 3 of WWE Supercard, the biggest, baddest update yet to the card battle game that has thrilled over 11 million players around the world! WWE Supercard delivers over 150 Superstars of the past, present and future as well as fast-paced, in-your-face action like you’ve never seen before!  Featuring the series’ first real time battle against live opponents, including a 15-on-15 Royal Rumble and ranked player-versus-player, Season 3 allows you to engage and compete with others from around the world for ranking and rewards!  WWE SuperCard Season 3 includes: •\\tRANKED / PVP MODE – Battle in real time against live opponents from around the world for the top slot in a new monthly leaderboard for ranking and rewards. •\\tROYAL RUMBLE – Pit 15 of your best cards against 15 of an opponent’s cards in a brand new, real-time gameplay mode in a battle to see the last card standing; •\\tNEW CARD TIERS – Access three new card tiers and compete for more than 100 new cards; •\\tWILD MODE – Use both Active and Legacy cards to compete against opponents and gain more Active cards for your deck;  •\\tSEASON 1 LEGACY CARDS – Retain Season 1 cards through their transition to Legacy cards in Season 3, with the cards available for play in the game’s new Wild Mode feature;  •\\tYOUR FAVORITE MODES  - Money in the Bank, Ring Domination, People’s Champion Challenge, King of the Ring, and Road to Glory are all carrying over to S3. And, yes, your S2 cards will be playable across all this in addition to Ranked, Wild, and Royal Rumble mode. ***Update requires OS 4.0.3+ WILL NOT RUN ON ANY EARLIER OS***',\n",
       " 'store_rating': 4.3}"
      ]
     },
     "execution_count": 5,
     "metadata": {},
     "output_type": "execute_result"
    }
   ],
   "source": [
    "data[0]"
   ]
  },
  {
   "cell_type": "code",
   "execution_count": 6,
   "metadata": {},
   "outputs": [
    {
     "name": "stdout",
     "output_type": "stream",
     "text": [
      "99  bulks were inserted successfully\n"
     ]
    }
   ],
   "source": [
    "from elasticsearch import helpers\n",
    "actions=[]\n",
    "a=0\n",
    "successful_bulks=0\n",
    "for i in data:\n",
    "    a=a+1\n",
    "    if a%1000!=0:\n",
    "        actions.append(i)\n",
    "    else:\n",
    "        #bulk insert\n",
    "        try:    \n",
    "            helpers.bulk(es, actions,index='applications')\n",
    "            successful_bulks=successful_bulks+1\n",
    "        except:\n",
    "            None\n",
    "        actions=[]\n",
    "    if a==100000:\n",
    "        break\n",
    "print(successful_bulks,\" bulks were inserted successfully\")"
   ]
  }
 ],
 "metadata": {
  "kernelspec": {
   "display_name": "Python 3",
   "language": "python",
   "name": "python3"
  },
  "language_info": {
   "codemirror_mode": {
    "name": "ipython",
    "version": 3
   },
   "file_extension": ".py",
   "mimetype": "text/x-python",
   "name": "python",
   "nbconvert_exporter": "python",
   "pygments_lexer": "ipython3",
   "version": "3.8.5"
  }
 },
 "nbformat": 4,
 "nbformat_minor": 4
}
