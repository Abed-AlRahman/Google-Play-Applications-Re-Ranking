{
 "cells": [
  {
   "cell_type": "code",
   "execution_count": 9,
   "metadata": {},
   "outputs": [],
   "source": [
    "from elasticsearch import Elasticsearch"
   ]
  },
  {
   "cell_type": "code",
   "execution_count": 10,
   "metadata": {},
   "outputs": [],
   "source": [
    "es = Elasticsearch()\n",
    "\n",
    "#name of the created index\n",
    "index_name = \"applications\""
   ]
  },
  {
   "cell_type": "code",
   "execution_count": 49,
   "metadata": {
    "scrolled": true
   },
   "outputs": [
    {
     "data": {
      "text/plain": [
       "{'acknowledged': True, 'shards_acknowledged': True, 'index': 'applications'}"
      ]
     },
     "execution_count": 49,
     "metadata": {},
     "output_type": "execute_result"
    }
   ],
   "source": [
    "# Create index with settings and mapping\n",
    "\n",
    "# This test is done during development only. \n",
    "if es.indices.exists(index_name):\n",
    "    es.indices.delete(index=index_name)\n",
    "    \n",
    "\n",
    "# index settings\n",
    "settings = {\n",
    "  \"settings\": {\n",
    "    \"analysis\": {\n",
    "      \"filter\": {\n",
    "        \"trigrams_filter\": {\n",
    "          \"type\": \"ngram\",\n",
    "          \"min_gram\": 3,\n",
    "          \"max_gram\": 4\n",
    "        }\n",
    "      },\n",
    "      \"analyzer\": {\n",
    "        \"text_processing\": {\n",
    "          \"type\": \"custom\",\n",
    "          \"tokenizer\": \"standard\",\n",
    "          \"filter\": [\n",
    "            \"lowercase\",\n",
    "            \"trigrams_filter\"\n",
    "          ]\n",
    "        }\n",
    "      }\n",
    "    }\n",
    "  }\n",
    ",\"mappings\": {\n",
    "    \"properties\": {\n",
    "        \"id\": {\n",
    "          \"type\": \"keyword\"\n",
    "        },\n",
    "        \"title\": {\n",
    "          \"type\": \"text\"\n",
    "        },\n",
    "        \"description\": {\n",
    "          \"type\": \"text\"\n",
    "        },\n",
    "        \"StoreRating\": {\n",
    "            \"type\":\"double\"\n",
    "        }\n",
    "    }\n",
    "\n",
    "}\n",
    "\n",
    "    }\n",
    "# create index\n",
    "es.indices.create(index=index_name, ignore=400, body=settings)"
   ]
  },
  {
   "cell_type": "code",
   "execution_count": 50,
   "metadata": {
    "scrolled": true
   },
   "outputs": [],
   "source": [
    "from elasticsearch import helpers\n",
    "import gzip\n",
    "import json\n",
    "\n",
    "i = 0\n",
    "# a list that will hold the bulks\n",
    "actions = []\n",
    "with gzip.open('scrapy01.json.gz','rt') as f:\n",
    "    for line in f:\n",
    "        i=i+1\n",
    "        #if any line is not an application. such as the first line \"[\"\n",
    "        if len(line)<10:\n",
    "            continue\n",
    "        z = line.replace(\"\\'\", \"\")\n",
    "        #removing the comma from the end of documents\n",
    "        a = z[0:-2]\n",
    "        #converting into dictionaries\n",
    "        x = eval(a)\n",
    "        if len(x['Title'])==0 or len(x['ReviewsAverage'])==0:\n",
    "            continue\n",
    "        #creating objects with the needed fields\n",
    "        lo = {\n",
    "            \"title\":x[\"Title\"][0],\n",
    "            \"description\":x[\"Description\"],\n",
    "            \"StoreRating\":x[\"ReviewsAverage\"][0],\n",
    "            \"_id\":x[\"Url\"].split(\"&\")[0]\n",
    "        }\n",
    "        #inserting data for bulks\n",
    "        if i%1000!=0:\n",
    "            actions.append(lo)\n",
    "        else:\n",
    "            #bulk insert\n",
    "            try:\n",
    "                helpers.bulk(es, actions,index=index_name)\n",
    "            except:\n",
    "                None\n",
    "            actions=[]\n",
    "        if i==1000000:\n",
    "            break"
   ]
  },
  {
   "cell_type": "code",
   "execution_count": null,
   "metadata": {},
   "outputs": [],
   "source": []
  }
 ],
 "metadata": {
  "kernelspec": {
   "display_name": "Python 3",
   "language": "python",
   "name": "python3"
  },
  "language_info": {
   "codemirror_mode": {
    "name": "ipython",
    "version": 3
   },
   "file_extension": ".py",
   "mimetype": "text/x-python",
   "name": "python",
   "nbconvert_exporter": "python",
   "pygments_lexer": "ipython3",
   "version": "3.8.5"
  }
 },
 "nbformat": 4,
 "nbformat_minor": 4
}
